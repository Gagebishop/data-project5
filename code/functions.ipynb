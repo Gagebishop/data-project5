{
 "cells": [
  {
   "cell_type": "markdown",
   "metadata": {},
   "source": [
    "A function is a piece of code that performs a particular task.  Defining one allows you to create new \"words\" that will  do the job for you, encapsulating a complex task into a simple command.  \n",
    "\n",
    "A function definition has to have several elements:\n",
    "\n",
    "1. The keyword \"def\", short for \"define\".\n",
    "2. The name of the function.  This can be any word you choose, but it is best if it is a word that means or helps you remember the task that the function performs, and it should not be a word that is already in use (a part of python), or in use in some other part of your program.\n",
    "3. Parentheses after the name.  \n",
    "4. A colon\n",
    "5. Indented underneath the line that names the function, it has to do something.\n",
    "\n"
   ]
  },
  {
   "cell_type": "code",
   "execution_count": 12,
   "metadata": {},
   "outputs": [
    {
     "name": "stdout",
     "output_type": "stream",
     "text": [
      "I did something\n"
     ]
    }
   ],
   "source": [
    "def doSomething():\n",
    "    print(\"I did something\")\n",
    "    \n",
    "doSomething()"
   ]
  },
  {
   "cell_type": "markdown",
   "metadata": {},
   "source": [
    "This was not a particularly exciting function, but it is a function that does something.\n",
    "\n",
    "1. It has the keyword def.\n",
    "2. It has a name that reminds me what the function does.\n",
    "3. It has parentheses.\n",
    "4. It has a colon.\n",
    "5. Indented underneath the line that names the function, it does something.\n",
    "\n",
    "What this function does is print out the message \"I did something\".\n",
    "\n",
    "The final line of the cell above **calls** the function.  You call a function by saying its name with parentheses.  The program then does what the function tells it to."
   ]
  },
  {
   "cell_type": "markdown",
   "metadata": {},
   "source": [
    "Make a function that squares a number.  It should *return* the squared value of the input number"
   ]
  },
  {
   "cell_type": "code",
   "execution_count": 1,
   "metadata": {},
   "outputs": [],
   "source": [
    "def square(number):\n",
    "    result = number*number\n",
    "    return result"
   ]
  },
  {
   "cell_type": "raw",
   "metadata": {},
   "source": []
  },
  {
   "cell_type": "code",
   "execution_count": 3,
   "metadata": {},
   "outputs": [
    {
     "data": {
      "text/plain": [
       "25"
      ]
     },
     "execution_count": 3,
     "metadata": {},
     "output_type": "execute_result"
    }
   ],
   "source": [
    "square(5)"
   ]
  },
  {
   "cell_type": "markdown",
   "metadata": {},
   "source": [
    "Make a function that adds up all the numbers in a list. \n",
    "The input should be a list, the return value should be a single number"
   ]
  },
  {
   "cell_type": "code",
   "execution_count": 9,
   "metadata": {},
   "outputs": [],
   "source": [
    "def sumOflist(thisIsTheList):\n",
    "    total = 0\n",
    "    for listItem in thisIsTheList:\n",
    "        total = total + listItem\n",
    "    return total"
   ]
  },
  {
   "cell_type": "code",
   "execution_count": 11,
   "metadata": {},
   "outputs": [
    {
     "ename": "TypeError",
     "evalue": "unsupported operand type(s) for +: 'int' and 'str'",
     "output_type": "error",
     "traceback": [
      "\u001b[0;31m---------------------------------------------------------------------------\u001b[0m",
      "\u001b[0;31mTypeError\u001b[0m                                 Traceback (most recent call last)",
      "\u001b[0;32m<ipython-input-11-a378df384987>\u001b[0m in \u001b[0;36m<module>\u001b[0;34m()\u001b[0m\n\u001b[0;32m----> 1\u001b[0;31m \u001b[0msumOflist\u001b[0m\u001b[0;34m(\u001b[0m\u001b[0;34m\"hell\"\u001b[0m\u001b[0;34m)\u001b[0m\u001b[0;34m\u001b[0m\u001b[0m\n\u001b[0m",
      "\u001b[0;32m<ipython-input-9-a8ed73c38a54>\u001b[0m in \u001b[0;36msumOflist\u001b[0;34m(thisIsTheList)\u001b[0m\n\u001b[1;32m      2\u001b[0m     \u001b[0mtotal\u001b[0m \u001b[0;34m=\u001b[0m \u001b[0;36m0\u001b[0m\u001b[0;34m\u001b[0m\u001b[0m\n\u001b[1;32m      3\u001b[0m     \u001b[0;32mfor\u001b[0m \u001b[0mlistItem\u001b[0m \u001b[0;32min\u001b[0m \u001b[0mthisIsTheList\u001b[0m\u001b[0;34m:\u001b[0m\u001b[0;34m\u001b[0m\u001b[0m\n\u001b[0;32m----> 4\u001b[0;31m         \u001b[0mtotal\u001b[0m \u001b[0;34m=\u001b[0m \u001b[0mtotal\u001b[0m \u001b[0;34m+\u001b[0m \u001b[0mlistItem\u001b[0m\u001b[0;34m\u001b[0m\u001b[0m\n\u001b[0m\u001b[1;32m      5\u001b[0m     \u001b[0;32mreturn\u001b[0m \u001b[0mtotal\u001b[0m\u001b[0;34m\u001b[0m\u001b[0m\n",
      "\u001b[0;31mTypeError\u001b[0m: unsupported operand type(s) for +: 'int' and 'str'"
     ]
    }
   ],
   "source": [
    "sumOflist(\"hell\")"
   ]
  },
  {
   "cell_type": "code",
   "execution_count": null,
   "metadata": {},
   "outputs": [],
   "source": []
  }
 ],
 "metadata": {
  "kernelspec": {
   "display_name": "Python 3",
   "language": "python",
   "name": "python3"
  },
  "language_info": {
   "codemirror_mode": {
    "name": "ipython",
    "version": 3
   },
   "file_extension": ".py",
   "mimetype": "text/x-python",
   "name": "python",
   "nbconvert_exporter": "python",
   "pygments_lexer": "ipython3",
   "version": "3.6.5"
  }
 },
 "nbformat": 4,
 "nbformat_minor": 2
}
